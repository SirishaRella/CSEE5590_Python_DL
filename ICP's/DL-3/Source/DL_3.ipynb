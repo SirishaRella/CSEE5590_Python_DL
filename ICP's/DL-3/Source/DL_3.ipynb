{
  "nbformat": 4,
  "nbformat_minor": 0,
  "metadata": {
    "colab": {
      "name": "DL-3.ipynb",
      "version": "0.3.2",
      "provenance": [],
      "collapsed_sections": []
    },
    "kernelspec": {
      "name": "python3",
      "display_name": "Python 3"
    }
  },
  "cells": [
    {
      "metadata": {
        "id": "EZhDhwKKkm6G",
        "colab_type": "code",
        "outputId": "fdcd987d-edbe-41a1-9c16-cc7ca3e5a394",
        "colab": {
          "base_uri": "https://localhost:8080/",
          "height": 1078
        }
      },
      "cell_type": "code",
      "source": [
        "# Simple CNN model for CIFAR-10\n",
        "import numpy\n",
        "#from keras.datasets import cifar10\n",
        "from keras.datasets import mnist\n",
        "from keras.models import Sequential\n",
        "from keras.layers import Dense\n",
        "from keras.layers import Dropout\n",
        "from keras.layers import Flatten\n",
        "from keras.constraints import maxnorm\n",
        "from keras.optimizers import SGD\n",
        "from keras.layers.convolutional import Conv2D\n",
        "from keras.layers.convolutional import MaxPooling2D\n",
        "from keras.utils import np_utils\n",
        "from keras import backend as K\n",
        "from keras.models import load_model\n",
        "import keras.callbacks\n",
        "import tensorboard\n",
        "K.set_image_dim_ordering('th')\n",
        "\n",
        "\n",
        "# fix random seed for reproducibility\n",
        "seed = 7\n",
        "numpy.random.seed(seed)\n",
        "\n",
        "# input image dimensions\n",
        "img_rows, img_cols = 28, 28\n",
        "\n",
        "\n",
        "# the data, split between train and test sets\n",
        "(x_train, y_train), (x_test, y_test) = mnist.load_data()\n",
        "# normalize inputs from 0-255 to 0.0-1.0\n",
        "x_train = x_train.astype('float32')\n",
        "x_test = x_test.astype('float32')\n",
        "x_train = x_train / 255.0\n",
        "x_test = x_test / 255.0\n",
        "# one hot encode outputs\n",
        "y_train = np_utils.to_categorical(y_train)\n",
        "y_test = np_utils.to_categorical(y_test)\n",
        "\n",
        "\n",
        "x_train = x_train.reshape(x_train.shape[0], 1, img_rows, img_cols)\n",
        "x_test = x_test.reshape(x_test.shape[0], 1, img_rows, img_cols)\n",
        "\n",
        "num_classes = y_test.shape[1]\n",
        "\n",
        "# Create the model\n",
        "model = Sequential()\n",
        "model.add(Conv2D(32, kernel_size=(3, 3), input_shape=(1,28,28), activation='relu'))\n",
        "model.add(Dropout(0.2))\n",
        "model.add(Conv2D(32, (3, 3), activation='relu', kernel_constraint=maxnorm(3)))\n",
        "model.add(MaxPooling2D(pool_size=(2, 2)))\n",
        "model.add(Conv2D(64, kernel_size=(3, 3), activation='relu'))\n",
        "model.add(Dropout(0.2))\n",
        "model.add(Conv2D(64, (3, 3), activation='relu', kernel_constraint=maxnorm(3)))\n",
        "model.add(MaxPooling2D(pool_size=(2, 2)))\n",
        "model.add(Conv2D(128, kernel_size=(3, 3), activation='relu'))\n",
        "model.add(Dropout(0.2))\n",
        "model.add(MaxPooling2D(pool_size=(2, 2)))\n",
        "model.add(Flatten())\n",
        "model.add(Dropout(0.2))\n",
        "model.add(Dense(1024, activation='relu', kernel_constraint=maxnorm(3)))\n",
        "model.add(Dropout(0.2))\n",
        "model.add(Dense(512, activation='relu', kernel_constraint=maxnorm(3)))\n",
        "model.add(Dropout(0.5))\n",
        "model.add(Dense(num_classes, activation='softmax'))\n",
        "\n",
        "# Compile model\n",
        "model.compile(loss='categorical_crossentropy', optimizer='adam', metrics=['accuracy'])\n",
        "print(model.summary())\n",
        "\n",
        "# Fit the model\n",
        "tbCallBack= keras.callbacks.TensorBoard(log_dir='./Graph', write_images=True)\n",
        "\n",
        "model.fit(x_train, y_train, validation_data=(x_test, y_test),epochs=2, batch_size=32,  callbacks=[tbCallBack])\n",
        "\n",
        "model.save('fashionmnist_update.h5')\n",
        "\n",
        "\n",
        "#loading model\n",
        "model = load_model('fashionmnist_update.h5')\n",
        "\n",
        "# Final evaluation of the model\n",
        "scores = model.evaluate(x_test, y_test, verbose=0)\n",
        "print(\"Accuracy: %.2f%%\" % (scores[1]*100))\n",
        "\n",
        "\n",
        "\n",
        "print(x_test.shape)\n",
        "#Predictions for first four images\n",
        "\n",
        "for i in range(0,4):\n",
        "    predicted_value = model.predict(x_test[[i],:])\n",
        "    predict_classes = model.predict_classes(x_test[[i],:])\n",
        "    actual_value = y_test[[i],:]\n",
        "    print(\"Actual Value for :\" + str(i) + 'st Image' + str(actual_value))\n",
        "    print(\"Predicted Value for \" + str(i) + 'st Image' + str(predict_classes))"
      ],
      "execution_count": 0,
      "outputs": [
        {
          "output_type": "stream",
          "text": [
            "_________________________________________________________________\n",
            "Layer (type)                 Output Shape              Param #   \n",
            "=================================================================\n",
            "conv2d_16 (Conv2D)           (None, 32, 26, 26)        320       \n",
            "_________________________________________________________________\n",
            "dropout_19 (Dropout)         (None, 32, 26, 26)        0         \n",
            "_________________________________________________________________\n",
            "conv2d_17 (Conv2D)           (None, 32, 24, 24)        9248      \n",
            "_________________________________________________________________\n",
            "max_pooling2d_10 (MaxPooling (None, 32, 12, 12)        0         \n",
            "_________________________________________________________________\n",
            "conv2d_18 (Conv2D)           (None, 64, 10, 10)        18496     \n",
            "_________________________________________________________________\n",
            "dropout_20 (Dropout)         (None, 64, 10, 10)        0         \n",
            "_________________________________________________________________\n",
            "conv2d_19 (Conv2D)           (None, 64, 8, 8)          36928     \n",
            "_________________________________________________________________\n",
            "max_pooling2d_11 (MaxPooling (None, 64, 4, 4)          0         \n",
            "_________________________________________________________________\n",
            "conv2d_20 (Conv2D)           (None, 128, 2, 2)         73856     \n",
            "_________________________________________________________________\n",
            "dropout_21 (Dropout)         (None, 128, 2, 2)         0         \n",
            "_________________________________________________________________\n",
            "max_pooling2d_12 (MaxPooling (None, 128, 1, 1)         0         \n",
            "_________________________________________________________________\n",
            "flatten_4 (Flatten)          (None, 128)               0         \n",
            "_________________________________________________________________\n",
            "dropout_22 (Dropout)         (None, 128)               0         \n",
            "_________________________________________________________________\n",
            "dense_10 (Dense)             (None, 1024)              132096    \n",
            "_________________________________________________________________\n",
            "dropout_23 (Dropout)         (None, 1024)              0         \n",
            "_________________________________________________________________\n",
            "dense_11 (Dense)             (None, 512)               524800    \n",
            "_________________________________________________________________\n",
            "dropout_24 (Dropout)         (None, 512)               0         \n",
            "_________________________________________________________________\n",
            "dense_12 (Dense)             (None, 10)                5130      \n",
            "=================================================================\n",
            "Total params: 800,874\n",
            "Trainable params: 800,874\n",
            "Non-trainable params: 0\n",
            "_________________________________________________________________\n",
            "None\n",
            "WARNING:tensorflow:From /usr/local/lib/python3.6/dist-packages/tensorflow/python/ops/math_ops.py:3066: to_int32 (from tensorflow.python.ops.math_ops) is deprecated and will be removed in a future version.\n",
            "Instructions for updating:\n",
            "Use tf.cast instead.\n",
            "Train on 60000 samples, validate on 10000 samples\n",
            "Epoch 1/2\n",
            "60000/60000 [==============================] - 275s 5ms/step - loss: 0.2671 - acc: 0.9163 - val_loss: 0.0556 - val_acc: 0.9859\n",
            "Epoch 2/2\n",
            "60000/60000 [==============================] - 270s 5ms/step - loss: 0.0978 - acc: 0.9752 - val_loss: 0.0624 - val_acc: 0.9828\n",
            "Accuracy: 98.28%\n",
            "(10000, 1, 28, 28)\n",
            "Actual Value for :0st Image[[0. 0. 0. 0. 0. 0. 0. 1. 0. 0.]]\n",
            "Predicted Value for 0st Image[7]\n",
            "Actual Value for :1st Image[[0. 0. 1. 0. 0. 0. 0. 0. 0. 0.]]\n",
            "Predicted Value for 1st Image[2]\n",
            "Actual Value for :2st Image[[0. 1. 0. 0. 0. 0. 0. 0. 0. 0.]]\n",
            "Predicted Value for 2st Image[1]\n",
            "Actual Value for :3st Image[[1. 0. 0. 0. 0. 0. 0. 0. 0. 0.]]\n",
            "Predicted Value for 3st Image[0]\n"
          ],
          "name": "stdout"
        }
      ]
    },
    {
      "metadata": {
        "id": "qJW-APAan1FB",
        "colab_type": "code",
        "outputId": "3f562442-11ca-43f7-b889-893745ab5732",
        "colab": {
          "base_uri": "https://localhost:8080/",
          "height": 235
        }
      },
      "cell_type": "code",
      "source": [
        "!wget https://bin.equinox.io/c/4VmDzA7iaHb/ngrok-stable-linux-amd64.zip\n",
        "!unzip ngrok-stable-linux-amd64.zip"
      ],
      "execution_count": 0,
      "outputs": [
        {
          "output_type": "stream",
          "text": [
            "--2019-04-19 22:02:37--  https://bin.equinox.io/c/4VmDzA7iaHb/ngrok-stable-linux-amd64.zip\n",
            "Resolving bin.equinox.io (bin.equinox.io)... 34.226.180.131, 52.7.169.168, 52.21.103.149, ...\n",
            "Connecting to bin.equinox.io (bin.equinox.io)|34.226.180.131|:443... connected.\n",
            "HTTP request sent, awaiting response... 200 OK\n",
            "Length: 14977695 (14M) [application/octet-stream]\n",
            "Saving to: ‘ngrok-stable-linux-amd64.zip’\n",
            "\n",
            "ngrok-stable-linux- 100%[===================>]  14.28M  59.8MB/s    in 0.2s    \n",
            "\n",
            "2019-04-19 22:02:37 (59.8 MB/s) - ‘ngrok-stable-linux-amd64.zip’ saved [14977695/14977695]\n",
            "\n",
            "Archive:  ngrok-stable-linux-amd64.zip\n",
            "  inflating: ngrok                   \n"
          ],
          "name": "stdout"
        }
      ]
    },
    {
      "metadata": {
        "id": "0_VRsFdJoAd7",
        "colab_type": "code",
        "colab": {}
      },
      "cell_type": "code",
      "source": [
        "LOG_DIR = './Graph'\n",
        "get_ipython().system_raw(\n",
        "    'tensorboard --logdir {} --host 0.0.0.0 --port 6006 &'\n",
        "    .format(LOG_DIR)\n",
        ")"
      ],
      "execution_count": 0,
      "outputs": []
    },
    {
      "metadata": {
        "id": "ejR_YXTAoMXf",
        "colab_type": "code",
        "colab": {}
      },
      "cell_type": "code",
      "source": [
        "get_ipython().system_raw('./ngrok http 6006 &')"
      ],
      "execution_count": 0,
      "outputs": []
    },
    {
      "metadata": {
        "id": "2kedFrhCoQ6c",
        "colab_type": "code",
        "outputId": "085fb427-0452-4712-914b-2388573b9de7",
        "colab": {
          "base_uri": "https://localhost:8080/",
          "height": 34
        }
      },
      "cell_type": "code",
      "source": [
        "! curl -s http://localhost:4040/api/tunnels | python3 -c \\\n",
        "    \"import sys, json; print(json.load(sys.stdin)['tunnels'][0]['public_url'])\""
      ],
      "execution_count": 0,
      "outputs": [
        {
          "output_type": "stream",
          "text": [
            "http://ffef2171.ngrok.io\n"
          ],
          "name": "stdout"
        }
      ]
    },
    {
      "metadata": {
        "id": "B9_ZSRBjk9XV",
        "colab_type": "code",
        "outputId": "f124f5a0-f9c6-40e8-e51f-43cfd809fa05",
        "colab": {
          "base_uri": "https://localhost:8080/",
          "height": 151
        }
      },
      "cell_type": "code",
      "source": [
        "!pip install keras"
      ],
      "execution_count": 0,
      "outputs": [
        {
          "output_type": "stream",
          "text": [
            "Requirement already satisfied: keras in /usr/local/lib/python3.6/dist-packages (2.2.4)\n",
            "Requirement already satisfied: keras-preprocessing>=1.0.5 in /usr/local/lib/python3.6/dist-packages (from keras) (1.0.9)\n",
            "Requirement already satisfied: pyyaml in /usr/local/lib/python3.6/dist-packages (from keras) (3.13)\n",
            "Requirement already satisfied: h5py in /usr/local/lib/python3.6/dist-packages (from keras) (2.8.0)\n",
            "Requirement already satisfied: six>=1.9.0 in /usr/local/lib/python3.6/dist-packages (from keras) (1.11.0)\n",
            "Requirement already satisfied: scipy>=0.14 in /usr/local/lib/python3.6/dist-packages (from keras) (1.2.1)\n",
            "Requirement already satisfied: numpy>=1.9.1 in /usr/local/lib/python3.6/dist-packages (from keras) (1.16.2)\n",
            "Requirement already satisfied: keras-applications>=1.0.6 in /usr/local/lib/python3.6/dist-packages (from keras) (1.0.7)\n"
          ],
          "name": "stdout"
        }
      ]
    }
  ]
}